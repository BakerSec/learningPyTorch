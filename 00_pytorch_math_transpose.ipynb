{
  "nbformat": 4,
  "nbformat_minor": 0,
  "metadata": {
    "colab": {
      "provenance": []
    },
    "kernelspec": {
      "name": "python3",
      "display_name": "Python 3"
    },
    "language_info": {
      "name": "python"
    }
  },
  "cells": [
    {
      "cell_type": "markdown",
      "source": [
        "# I went through Mike Cohen's deep learning course - my code has more comments and added goodies (modified from the original) and will walk you through it -- or you can sign up here:\n",
        "https://www.udemy.com/course/deeplearning_x/learn/lecture/27841856#overview"
      ],
      "metadata": {
        "id": "EhZIZ-cNHWY5"
      }
    },
    {
      "cell_type": "markdown",
      "source": [
        "# Using NumPy"
      ],
      "metadata": {
        "id": "ZS0wtC6QFBDe"
      }
    },
    {
      "cell_type": "code",
      "source": [
        "# 1st STEP ** Always remember to import the required libraries.\n",
        "import numpy as np\n",
        "import torch"
      ],
      "metadata": {
        "id": "Sw1UXiUuFt8c"
      },
      "execution_count": null,
      "outputs": []
    },
    {
      "cell_type": "code",
      "source": [
        "# Let's understand a vector - a number with direction, a one dimensional row or column"
      ],
      "metadata": {
        "id": "7tVKLKjfIYXN"
      },
      "execution_count": null,
      "outputs": []
    },
    {
      "cell_type": "code",
      "source": [
        "# Let's create a new vector\n",
        "newVector = np.array([ [1,2,3,4] ]) # we name our variable and call NumPy as np\n",
        "print(newVector), print(' ')\n",
        "\n",
        "# let's transpose the vector to a column\n",
        "print(newVector.T), print(' ') # this just prints, not permanent change\n",
        "\n",
        "# and back again to a row\n",
        "newVectorT = newVector.T\n",
        "print(newVectorT.T) # below we can watch the transposition from row, column, row :-)\n",
        "# let's check datatype and our dimensionality\n",
        "nvDtype = newVector.dtype\n",
        "print(nvDtype) # numpy sees these as n dimensiol arrays, aka, NDARRAYS - 64bit integer\n",
        "\n",
        "newVector.ndim # 2 dimensions is the result"
      ],
      "metadata": {
        "colab": {
          "base_uri": "https://localhost:8080/"
        },
        "id": "avzd_UkLFZsY",
        "outputId": "f76f8d8f-8d40-4719-ebaa-549a212c01a3"
      },
      "execution_count": 24,
      "outputs": [
        {
          "output_type": "stream",
          "name": "stdout",
          "text": [
            "[[1 2 3 4]]\n",
            " \n",
            "[[1]\n",
            " [2]\n",
            " [3]\n",
            " [4]]\n",
            " \n",
            "[[1 2 3 4]]\n",
            "int64\n"
          ]
        },
        {
          "output_type": "execute_result",
          "data": {
            "text/plain": [
              "2"
            ]
          },
          "metadata": {},
          "execution_count": 24
        }
      ]
    },
    {
      "cell_type": "code",
      "source": [
        "# Now we can move on to a matrix or an n dimensional array, similar to a spreadsheet\n",
        "# n number of rows and columns\n",
        "\n",
        "newMatrix = np.array([ [1,2,3,4],\n",
        "                       [6,7,8,9]\n",
        "                       ])\n",
        "print(newMatrix), print(' ')\n",
        "\n",
        "print(newMatrix.T), print(' ') # this just prints, not permanent change, notice the 1st\n",
        "# row becomes the 1st column, 2nd - 2nd, 3rd - 3rd etc. to however many n columns\n",
        "\n",
        "newMatrixT = newMatrix.T\n",
        "print(newMatrixT.T) # same as above, takes it back to its original state\n",
        "newMatrix.ndim # we can see that it is a 2 dimension shape - 2 is the result below"
      ],
      "metadata": {
        "colab": {
          "base_uri": "https://localhost:8080/"
        },
        "id": "gcAPJFFaLZXL",
        "outputId": "4124f1b9-db07-4363-b7d8-59550cce0ff7"
      },
      "execution_count": 17,
      "outputs": [
        {
          "output_type": "stream",
          "name": "stdout",
          "text": [
            "[[1 2 3 4]\n",
            " [6 7 8 9]]\n",
            " \n",
            "[[1 6]\n",
            " [2 7]\n",
            " [3 8]\n",
            " [4 9]]\n",
            " \n",
            "[[1 2 3 4]\n",
            " [6 7 8 9]]\n"
          ]
        },
        {
          "output_type": "execute_result",
          "data": {
            "text/plain": [
              "2"
            ]
          },
          "metadata": {},
          "execution_count": 17
        }
      ]
    },
    {
      "cell_type": "markdown",
      "source": [
        "# Now let's do the same, but let's use PyTorch!"
      ],
      "metadata": {
        "id": "P29BszkLhNHM"
      }
    },
    {
      "cell_type": "code",
      "source": [
        "torchVector = torch.tensor([ [1,2,3,4] ]) # understand that pytorch defines\n",
        "# scalars, vectors, matrices, and tensors, you guessed it... as tensors.\n",
        "print(torchVector), print(' ')\n",
        "\n",
        "print(torchVector.T) , print(' ')\n",
        "\n",
        "torchVectorT = torchVector.T\n",
        "print(torchVectorT.T)\n",
        "\n",
        "tvDtype = torchVector.dtype # let's check our datatype and dimesnionality\n",
        "print(tvDtype) # datatype is a torch tensor - 64bit integer\n",
        "\n",
        "torchVector.ndim"
      ],
      "metadata": {
        "colab": {
          "base_uri": "https://localhost:8080/"
        },
        "id": "QzTa_7D6hYxz",
        "outputId": "5015392a-4eff-4b6c-aae1-f8ac1eecd512"
      },
      "execution_count": 25,
      "outputs": [
        {
          "output_type": "stream",
          "name": "stdout",
          "text": [
            "tensor([[1, 2, 3, 4]])\n",
            " \n",
            "tensor([[1],\n",
            "        [2],\n",
            "        [3],\n",
            "        [4]])\n",
            " \n",
            "tensor([[1, 2, 3, 4]])\n",
            "torch.int64\n"
          ]
        },
        {
          "output_type": "execute_result",
          "data": {
            "text/plain": [
              "2"
            ]
          },
          "metadata": {},
          "execution_count": 25
        }
      ]
    },
    {
      "cell_type": "code",
      "source": [
        "# let's do a matrix with torch\n",
        "torchMatrix = torch.tensor([ [1,2,3,4,],\n",
        "                            [6,7,8,9,]\n",
        "                             ])\n",
        "print(torchMatrix), print(' ')\n",
        "\n",
        "print(torchMatrix.T), print(' ')\n",
        "\n",
        "torchMatrixT = torchMatrix.T\n",
        "print(torchMatrixT.T)\n",
        "\n",
        "tmDtype = torchMatrix.dtype\n",
        "print(tmDtype)\n",
        "torchMatrix.ndim"
      ],
      "metadata": {
        "colab": {
          "base_uri": "https://localhost:8080/"
        },
        "id": "Xa0FoazLlg-2",
        "outputId": "8a6827b1-2101-4def-c7fc-5a690af79790"
      },
      "execution_count": 33,
      "outputs": [
        {
          "output_type": "stream",
          "name": "stdout",
          "text": [
            "tensor([[1, 2, 3, 4],\n",
            "        [6, 7, 8, 9]])\n",
            " \n",
            "tensor([[1, 6],\n",
            "        [2, 7],\n",
            "        [3, 8],\n",
            "        [4, 9]])\n",
            " \n",
            "tensor([[1, 2, 3, 4],\n",
            "        [6, 7, 8, 9]])\n",
            "torch.int64\n"
          ]
        },
        {
          "output_type": "execute_result",
          "data": {
            "text/plain": [
              "2"
            ]
          },
          "metadata": {},
          "execution_count": 33
        }
      ]
    },
    {
      "cell_type": "code",
      "source": [
        "# for a more a more robust and in depth return of dtypes, try this :-)\n",
        "print(f'Variable newVector is of dtype {type(newVector)}')\n",
        "print(f'Variable newMatrix is of dtype {type(newMatrix)}')\n",
        "print(f'Variable torchVector is of dtype {type(torchVector)}')\n",
        "print(f'Variable torchMatrix is of dtype {type(torchMatrix)}')"
      ],
      "metadata": {
        "colab": {
          "base_uri": "https://localhost:8080/"
        },
        "id": "YAQhnc0eoWav",
        "outputId": "a3ca18db-e3d8-4e8b-ad35-fbbda881efb9"
      },
      "execution_count": 36,
      "outputs": [
        {
          "output_type": "stream",
          "name": "stdout",
          "text": [
            "Variable newVector is of dtype <class 'numpy.ndarray'>\n",
            "Variable newMatrix is of dtype <class 'numpy.ndarray'>\n",
            "Variable torchVector is of dtype <class 'torch.Tensor'>\n",
            "Variable torchMatrix is of dtype <class 'torch.Tensor'>\n"
          ]
        }
      ]
    }
  ]
}