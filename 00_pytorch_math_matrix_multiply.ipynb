{
  "nbformat": 4,
  "nbformat_minor": 0,
  "metadata": {
    "colab": {
      "provenance": [],
      "authorship_tag": "ABX9TyN7peBd1YU7+j2vLXJ2wHui",
      "include_colab_link": true
    },
    "kernelspec": {
      "name": "python3",
      "display_name": "Python 3"
    },
    "language_info": {
      "name": "python"
    }
  },
  "cells": [
    {
      "cell_type": "markdown",
      "metadata": {
        "id": "view-in-github",
        "colab_type": "text"
      },
      "source": [
        "<a href=\"https://colab.research.google.com/github/flowmasterB/learningPyTorch/blob/main/00_pytorch_math_matrix_multiply.ipynb\" target=\"_parent\"><img src=\"https://colab.research.google.com/assets/colab-badge.svg\" alt=\"Open In Colab\"/></a>"
      ]
    },
    {
      "cell_type": "markdown",
      "source": [
        "# I went through Mike Cohen's deep learning course (modified from the original - I add more comments and code where I see fit to further solidify concepts) and will walk you through it -- or you can sign up here:\n",
        "https://www.udemy.com/course/deeplearning_x/learn/lecture/27841856#overview"
      ],
      "metadata": {
        "id": "yhGS5jl2zuFC"
      }
    },
    {
      "cell_type": "code",
      "source": [
        "# import libraries\n",
        "import numpy as np\n",
        "import torch"
      ],
      "metadata": {
        "id": "gOC65PtB0BEQ"
      },
      "execution_count": 2,
      "outputs": []
    },
    {
      "cell_type": "markdown",
      "source": [
        "# Using NumPy"
      ],
      "metadata": {
        "id": "udnkmJByz4yp"
      }
    },
    {
      "cell_type": "code",
      "source": [
        "# create random matrices -- note** a capital letter indicates a matrix\n",
        "A = np.random.randn(3,4) # creates random matrix 3 rows 4 cols\n",
        "B = np.random.randn(4,5) # creates random matrix 4 rows 5 cols\n",
        "C = np.random.randn(3,7) # creates random matrix 3 rows 7 cols\n",
        "\n",
        "print(A), print(' ') # I add a line to separate them for easier viewing\n",
        "print(B), print(' ')\n",
        "print(C)\n",
        "\n",
        "# for the following examples -- uncomment then comment the line back\n",
        "np.matmul(A,B) # python multiply\n",
        "A@C# shortcut for multiply\n",
        "# check with C - rotate the sequence and see if they will multiply -\n",
        "# matrices multiply the outer only if the inners are congruent\n",
        "# i.e. m1 [1,2] m2 [3,2] wil not  work, whereas [1,2] [2,3] would - 2 2 inner\n",
        ""
      ],
      "metadata": {
        "colab": {
          "base_uri": "https://localhost:8080/",
          "height": 510
        },
        "id": "qXiv7pBUz-GN",
        "outputId": "6bbb4502-6367-4c03-c60c-ea39e119bd14"
      },
      "execution_count": 23,
      "outputs": [
        {
          "output_type": "stream",
          "name": "stdout",
          "text": [
            "[[-0.33113844  0.1826392  -2.06198769  2.60472962]\n",
            " [-0.85332969 -1.73008821  0.40115948  0.23957054]\n",
            " [-1.36432831  0.46223122 -0.3722126   1.00807397]]\n",
            " \n",
            "[[ 1.3724463   0.59855468 -0.10646262 -0.32034025 -0.19775052]\n",
            " [-1.06668127  1.90471004  1.54042228  0.4809631  -1.16533517]\n",
            " [ 0.02000058 -1.13586999 -0.35217225  0.43461363 -0.32164794]\n",
            " [-1.12478947 -1.08044313  1.12179673  0.06874414  1.43926075]]\n",
            " \n",
            "[[ 0.77048948  1.63433634  0.18236107 -1.88388415 -0.84227712 -0.87074238\n",
            "  -0.44624197]\n",
            " [-2.06731164  0.14532464 -0.61803738 -2.01175788 -0.50384037 -0.15520821\n",
            "  -0.39007199]\n",
            " [ 2.05663208 -0.55504993 -1.31078196 -1.14231016  0.16420996  1.17232545\n",
            "  -0.578566  ]]\n"
          ]
        },
        {
          "output_type": "error",
          "ename": "ValueError",
          "evalue": "ignored",
          "traceback": [
            "\u001b[0;31m---------------------------------------------------------------------------\u001b[0m",
            "\u001b[0;31mValueError\u001b[0m                                Traceback (most recent call last)",
            "\u001b[0;32m<ipython-input-23-8135c4d6bb61>\u001b[0m in \u001b[0;36m<cell line: 12>\u001b[0;34m()\u001b[0m\n\u001b[1;32m     10\u001b[0m \u001b[0;31m# for the following examples -- uncomment then comment the line back\u001b[0m\u001b[0;34m\u001b[0m\u001b[0;34m\u001b[0m\u001b[0m\n\u001b[1;32m     11\u001b[0m \u001b[0mnp\u001b[0m\u001b[0;34m.\u001b[0m\u001b[0mmatmul\u001b[0m\u001b[0;34m(\u001b[0m\u001b[0mA\u001b[0m\u001b[0;34m,\u001b[0m\u001b[0mB\u001b[0m\u001b[0;34m)\u001b[0m \u001b[0;31m# python multiply\u001b[0m\u001b[0;34m\u001b[0m\u001b[0;34m\u001b[0m\u001b[0m\n\u001b[0;32m---> 12\u001b[0;31m \u001b[0mA\u001b[0m\u001b[0;34m@\u001b[0m\u001b[0mC\u001b[0m\u001b[0;31m# shortcut for multiply\u001b[0m\u001b[0;34m\u001b[0m\u001b[0;34m\u001b[0m\u001b[0m\n\u001b[0m\u001b[1;32m     13\u001b[0m \u001b[0;31m# check with C - rotate the sequence and see if they will multiply -\u001b[0m\u001b[0;34m\u001b[0m\u001b[0;34m\u001b[0m\u001b[0m\n\u001b[1;32m     14\u001b[0m \u001b[0;31m# matrices multiply the outer only if the inners are congruent\u001b[0m\u001b[0;34m\u001b[0m\u001b[0;34m\u001b[0m\u001b[0m\n",
            "\u001b[0;31mValueError\u001b[0m: matmul: Input operand 1 has a mismatch in its core dimension 0, with gufunc signature (n?,k),(k,m?)->(n?,m?) (size 3 is different from 4)"
          ]
        }
      ]
    },
    {
      "cell_type": "code",
      "source": [
        "# See, we were returned an error, because the inner values were not congruent\n",
        "# Let's try A@B\n",
        "A@B # We are returned new NDARRAY from NumPy\n",
        "print({type(A@B)})"
      ],
      "metadata": {
        "colab": {
          "base_uri": "https://localhost:8080/"
        },
        "id": "Th-ShPjzFdR1",
        "outputId": "eba63d62-e9df-4b2f-eac8-8880c91ea46d"
      },
      "execution_count": 26,
      "outputs": [
        {
          "output_type": "stream",
          "name": "stdout",
          "text": [
            "{<class 'numpy.ndarray'>}\n"
          ]
        }
      ]
    },
    {
      "cell_type": "code",
      "source": [
        "A@B # We have a very precise floated array\n",
        "# Let's try to shorten these up\n",
        "print(A@B), print(' ')\n",
        "print(np.round(A@B   ,2)), print(' ')"
      ],
      "metadata": {
        "colab": {
          "base_uri": "https://localhost:8080/"
        },
        "id": "x9p9Oj4DGWbP",
        "outputId": "745156d0-37cb-4c73-85f0-5496838fb8a3"
      },
      "execution_count": 31,
      "outputs": [
        {
          "output_type": "stream",
          "name": "stdout",
          "text": [
            "[[-3.62030097 -0.32244203  3.96474737 -0.52318837  4.26476611]\n",
            " [ 0.41286052 -4.52058823 -2.44674649 -0.36793429  2.40065137]\n",
            " [-3.50683617 -0.60259013  2.11921826  0.56689595  1.30174505]]\n",
            " \n",
            "[[-3.62 -0.32  3.96 -0.52  4.26]\n",
            " [ 0.41 -4.52 -2.45 -0.37  2.4 ]\n",
            " [-3.51 -0.6   2.12  0.57  1.3 ]]\n",
            " \n"
          ]
        },
        {
          "output_type": "execute_result",
          "data": {
            "text/plain": [
              "(None, None)"
            ]
          },
          "metadata": {},
          "execution_count": 31
        }
      ]
    },
    {
      "cell_type": "code",
      "source": [
        "# NICE! Easier on the eyes yeah? :-)"
      ],
      "metadata": {
        "id": "lFfpCyfvHCcl"
      },
      "execution_count": 35,
      "outputs": []
    },
    {
      "cell_type": "code",
      "source": [
        "# Let's do a transpose -- but A and C won't multiply! -- TRANSPOSE!\n",
        "print(np.round( C.T@A,   2)) # C is 3,7 - transpose 7,3 and multiply by A 3,4"
      ],
      "metadata": {
        "colab": {
          "base_uri": "https://localhost:8080/"
        },
        "id": "I5ldLkK1Iq0K",
        "outputId": "1ae9ac27-1e68-43d6-bdd8-5b32d1b6c021"
      },
      "execution_count": 36,
      "outputs": [
        {
          "output_type": "stream",
          "name": "stdout",
          "text": [
            "[[-1.3   4.67 -3.18  3.58]\n",
            " [ 0.09 -0.21 -3.11  3.73]\n",
            " [ 2.26  0.5  -0.14 -0.99]\n",
            " [ 3.9   2.61  3.5  -6.54]\n",
            " [ 0.48  0.79  1.47 -2.15]\n",
            " [-1.18  0.65  1.3  -1.12]\n",
            " [ 1.27  0.33  0.98 -1.84]]\n"
          ]
        }
      ]
    },
    {
      "cell_type": "markdown",
      "source": [
        "# Using PyTorch"
      ],
      "metadata": {
        "id": "xzKvnGKBH956"
      }
    },
    {
      "cell_type": "code",
      "source": [
        "# create random matrices -- note** a capital letter indicates a matrix\n",
        "At = torch.randn(3,4) # creates random matrix 3 rows 4 cols\n",
        "Bt = torch.randn(4,5) # creates random matrix 4 rows 5 cols\n",
        "Ct = np.random.randn(4,7) # creates random matrix 4 rows 7 cols - a np array!\n",
        "Ct2 = torch.tensor( Ct,dtype=torch.float ) # We convert NDARRAY to a tensor\n",
        "print(At), print(' ') # I add a line to separate them for easier viewing\n",
        "print(Bt), print(' ')\n",
        "print(Ct), print(' ')\n",
        "print(Ct2)\n",
        "\n",
        "# can we multiply a np array and a torch tensor?\n",
        "\n",
        "print(np.round( A@Ct2  ,2))"
      ],
      "metadata": {
        "colab": {
          "base_uri": "https://localhost:8080/",
          "height": 597
        },
        "id": "Np-9QANGIBEo",
        "outputId": "4f8b5dd1-ffb9-43f6-90f3-1d99e266acaa"
      },
      "execution_count": 45,
      "outputs": [
        {
          "output_type": "stream",
          "name": "stdout",
          "text": [
            "tensor([[ 0.2248,  0.4896,  0.4200, -0.5701],\n",
            "        [ 1.0696,  0.8745,  1.8540, -0.6219],\n",
            "        [ 0.0565, -0.3721,  0.5928, -1.4072]])\n",
            " \n",
            "tensor([[ 0.1093,  1.8499, -0.7677, -0.2567,  1.0002],\n",
            "        [-0.3612,  0.9117,  0.1066,  1.7451,  1.1985],\n",
            "        [ 0.4639, -1.6284,  1.9700,  0.0604, -0.0561],\n",
            "        [-1.1660,  1.3610,  1.0319, -1.1278, -1.6011]])\n",
            " \n",
            "[[ 0.7382894  -0.08035364 -0.57938427  0.53964095 -1.05570451  0.37549975\n",
            "  -0.71727673]\n",
            " [ 0.2983628  -0.17238746  0.09099311 -0.2581923   1.58425867  0.80005948\n",
            "  -1.6777531 ]\n",
            " [-0.43672344 -0.10841492 -1.38851007 -0.94035695 -0.1712289   1.48218764\n",
            "  -0.48945847]\n",
            " [ 1.76260256  1.84695337 -1.37457305  0.1390787   0.94840486  1.63178782\n",
            "   0.66992666]]\n",
            " \n",
            "tensor([[ 0.7383, -0.0804, -0.5794,  0.5396, -1.0557,  0.3755, -0.7173],\n",
            "        [ 0.2984, -0.1724,  0.0910, -0.2582,  1.5843,  0.8001, -1.6778],\n",
            "        [-0.4367, -0.1084, -1.3885, -0.9404, -0.1712,  1.4822, -0.4895],\n",
            "        [ 1.7626,  1.8470, -1.3746,  0.1391,  0.9484,  1.6318,  0.6699]])\n"
          ]
        },
        {
          "output_type": "error",
          "ename": "TypeError",
          "evalue": "ignored",
          "traceback": [
            "\u001b[0;31m---------------------------------------------------------------------------\u001b[0m",
            "\u001b[0;31mTypeError\u001b[0m                                 Traceback (most recent call last)",
            "\u001b[0;32m<ipython-input-45-c145ad5ca10a>\u001b[0m in \u001b[0;36m<cell line: 13>\u001b[0;34m()\u001b[0m\n\u001b[1;32m     11\u001b[0m \u001b[0;31m# can we multiply a np array and a torch tensor?\u001b[0m\u001b[0;34m\u001b[0m\u001b[0;34m\u001b[0m\u001b[0m\n\u001b[1;32m     12\u001b[0m \u001b[0;34m\u001b[0m\u001b[0m\n\u001b[0;32m---> 13\u001b[0;31m \u001b[0mprint\u001b[0m\u001b[0;34m(\u001b[0m\u001b[0mnp\u001b[0m\u001b[0;34m.\u001b[0m\u001b[0mround\u001b[0m\u001b[0;34m(\u001b[0m \u001b[0mA\u001b[0m\u001b[0;34m@\u001b[0m\u001b[0mCt2\u001b[0m  \u001b[0;34m,\u001b[0m\u001b[0;36m2\u001b[0m\u001b[0;34m)\u001b[0m\u001b[0;34m)\u001b[0m\u001b[0;34m\u001b[0m\u001b[0;34m\u001b[0m\u001b[0m\n\u001b[0m",
            "\u001b[0;31mTypeError\u001b[0m: unsupported operand type(s) for @: 'numpy.ndarray' and 'Tensor'"
          ]
        }
      ]
    },
    {
      "cell_type": "code",
      "source": [
        "# NOPE\n",
        "# let's try\n",
        "At@Bt"
      ],
      "metadata": {
        "colab": {
          "base_uri": "https://localhost:8080/"
        },
        "id": "yy8hq1uELkJ4",
        "outputId": "0a445f5e-045b-4f15-d50a-0627ad1435d3"
      },
      "execution_count": 47,
      "outputs": [
        {
          "output_type": "execute_result",
          "data": {
            "text/plain": [
              "tensor([[ 0.7073, -0.5976,  0.1187,  1.4650,  1.7009],\n",
              "        [ 1.3862, -1.0895,  2.2826,  2.0650,  3.0097],\n",
              "        [ 2.0563, -3.1152, -0.3673,  0.9588,  1.8303]])"
            ]
          },
          "metadata": {},
          "execution_count": 47
        }
      ]
    },
    {
      "cell_type": "code",
      "source": [
        "# YEP\n",
        "Bt@Ct"
      ],
      "metadata": {
        "colab": {
          "base_uri": "https://localhost:8080/",
          "height": 181
        },
        "id": "azCTD5twLpCM",
        "outputId": "ffe75f56-7171-4744-be46-d892f99937c3"
      },
      "execution_count": 50,
      "outputs": [
        {
          "output_type": "error",
          "ename": "ValueError",
          "evalue": "ignored",
          "traceback": [
            "\u001b[0;31m---------------------------------------------------------------------------\u001b[0m",
            "\u001b[0;31mValueError\u001b[0m                                Traceback (most recent call last)",
            "\u001b[0;32m<ipython-input-50-76b07735c30e>\u001b[0m in \u001b[0;36m<cell line: 1>\u001b[0;34m()\u001b[0m\n\u001b[0;32m----> 1\u001b[0;31m \u001b[0mBt\u001b[0m\u001b[0;34m@\u001b[0m\u001b[0mCt\u001b[0m\u001b[0;34m\u001b[0m\u001b[0;34m\u001b[0m\u001b[0m\n\u001b[0m",
            "\u001b[0;31mValueError\u001b[0m: matmul: Input operand 1 has a mismatch in its core dimension 0, with gufunc signature (n?,k),(k,m?)->(n?,m?) (size 4 is different from 5)"
          ]
        }
      ]
    },
    {
      "cell_type": "code",
      "source": [
        "# NOPE\n",
        "At@Ct"
      ],
      "metadata": {
        "colab": {
          "base_uri": "https://localhost:8080/"
        },
        "id": "rV_1mJR4Ltml",
        "outputId": "91d0cf79-b3da-492e-ef93-8c5c613110c4"
      },
      "execution_count": 52,
      "outputs": [
        {
          "output_type": "execute_result",
          "data": {
            "text/plain": [
              "tensor([[-0.8762, -1.2009,  0.1147, -0.4793, -0.0743,  0.1684, -1.5701],\n",
              "        [-0.8553, -1.5863, -2.2596, -1.4785, -0.6511,  2.8344, -3.5585],\n",
              "        [-2.8085, -2.6036,  1.0446, -0.6266, -2.0853, -1.6942, -0.6490]],\n",
              "       dtype=torch.float64)"
            ]
          },
          "metadata": {},
          "execution_count": 52
        }
      ]
    },
    {
      "cell_type": "code",
      "source": [
        "# YEP\n",
        "At@Bt.T"
      ],
      "metadata": {
        "colab": {
          "base_uri": "https://localhost:8080/",
          "height": 181
        },
        "id": "SHHahPxCL1jT",
        "outputId": "6dc53815-07ad-4ec4-c3a6-5fe4df480585"
      },
      "execution_count": 54,
      "outputs": [
        {
          "output_type": "error",
          "ename": "RuntimeError",
          "evalue": "ignored",
          "traceback": [
            "\u001b[0;31m---------------------------------------------------------------------------\u001b[0m",
            "\u001b[0;31mRuntimeError\u001b[0m                              Traceback (most recent call last)",
            "\u001b[0;32m<ipython-input-54-b7960f16d8cb>\u001b[0m in \u001b[0;36m<cell line: 1>\u001b[0;34m()\u001b[0m\n\u001b[0;32m----> 1\u001b[0;31m \u001b[0mAt\u001b[0m\u001b[0;34m@\u001b[0m\u001b[0mBt\u001b[0m\u001b[0;34m.\u001b[0m\u001b[0mT\u001b[0m\u001b[0;34m\u001b[0m\u001b[0;34m\u001b[0m\u001b[0m\n\u001b[0m",
            "\u001b[0;31mRuntimeError\u001b[0m: mat1 and mat2 shapes cannot be multiplied (3x4 and 5x4)"
          ]
        }
      ]
    },
    {
      "cell_type": "code",
      "source": [
        "# NOPE\n",
        "Bt.T@Ct # there we go a transpose and now Bt and Ct can multiply!"
      ],
      "metadata": {
        "colab": {
          "base_uri": "https://localhost:8080/"
        },
        "id": "LvB0W84xL6OI",
        "outputId": "8b507c50-65d1-4750-9743-435b6c1d8be8"
      },
      "execution_count": 56,
      "outputs": [
        {
          "output_type": "execute_result",
          "data": {
            "text/plain": [
              "tensor([[-2.2849, -2.1504,  0.8625, -0.4461, -1.8728, -1.4630, -0.4806],\n",
              "        [ 4.7478,  2.3844, -0.5986,  2.4834,  1.0610,  1.2313, -1.1476],\n",
              "        [ 0.4235,  1.7356, -3.6992, -2.1507,  1.6206,  4.4007,  0.0989],\n",
              "        [-1.6830, -2.3697,  1.7738, -0.8028,  1.9558, -0.4509, -3.5289],\n",
              "        [-1.7016, -3.2381,  1.8083,  0.0604, -0.6661, -1.3614, -3.7734]],\n",
              "       dtype=torch.float64)"
            ]
          },
          "metadata": {},
          "execution_count": 56
        }
      ]
    },
    {
      "cell_type": "code",
      "source": [
        "# Let's try Ct2\n",
        "At@Ct2 # BTW you can use the numpy round print(np.round(At@Ct2,  2)) also ;-)"
      ],
      "metadata": {
        "colab": {
          "base_uri": "https://localhost:8080/"
        },
        "id": "T6REXrHNMlYO",
        "outputId": "676e2aab-1775-401a-ed4c-72a70108dc93"
      },
      "execution_count": 59,
      "outputs": [
        {
          "output_type": "execute_result",
          "data": {
            "text/plain": [
              "tensor([[-0.8762, -1.2009,  0.1147, -0.4793, -0.0743,  0.1684, -1.5701],\n",
              "        [-0.8553, -1.5863, -2.2596, -1.4785, -0.6511,  2.8344, -3.5585],\n",
              "        [-2.8085, -2.6036,  1.0446, -0.6266, -2.0853, -1.6942, -0.6490]])"
            ]
          },
          "metadata": {},
          "execution_count": 59
        }
      ]
    },
    {
      "cell_type": "code",
      "source": [
        "# YEP\n",
        "Bt@Ct2"
      ],
      "metadata": {
        "colab": {
          "base_uri": "https://localhost:8080/",
          "height": 198
        },
        "id": "hh-JcDsAMwqJ",
        "outputId": "2baa43cc-538d-40f3-a099-a5ffa1c49a7c"
      },
      "execution_count": 61,
      "outputs": [
        {
          "output_type": "error",
          "ename": "RuntimeError",
          "evalue": "ignored",
          "traceback": [
            "\u001b[0;31m---------------------------------------------------------------------------\u001b[0m",
            "\u001b[0;31mRuntimeError\u001b[0m                              Traceback (most recent call last)",
            "\u001b[0;32m<ipython-input-61-c7cb370f37be>\u001b[0m in \u001b[0;36m<cell line: 2>\u001b[0;34m()\u001b[0m\n\u001b[1;32m      1\u001b[0m \u001b[0;31m# YEP\u001b[0m\u001b[0;34m\u001b[0m\u001b[0;34m\u001b[0m\u001b[0m\n\u001b[0;32m----> 2\u001b[0;31m \u001b[0mBt\u001b[0m\u001b[0;34m@\u001b[0m\u001b[0mCt2\u001b[0m\u001b[0;34m\u001b[0m\u001b[0;34m\u001b[0m\u001b[0m\n\u001b[0m",
            "\u001b[0;31mRuntimeError\u001b[0m: mat1 and mat2 shapes cannot be multiplied (4x5 and 4x7)"
          ]
        }
      ]
    },
    {
      "cell_type": "code",
      "source": [
        "# NOPE -- let's transpose!\n",
        "Bt.T@Ct2 # YEP!!!! Wooo Hoooo!"
      ],
      "metadata": {
        "colab": {
          "base_uri": "https://localhost:8080/"
        },
        "id": "lN4KIRQlM3L6",
        "outputId": "fa7e0bd9-dd0b-45e4-fbb0-1b2efd6edc03"
      },
      "execution_count": 62,
      "outputs": [
        {
          "output_type": "execute_result",
          "data": {
            "text/plain": [
              "tensor([[-2.2849, -2.1504,  0.8625, -0.4461, -1.8728, -1.4630, -0.4806],\n",
              "        [ 4.7478,  2.3844, -0.5986,  2.4834,  1.0610,  1.2313, -1.1476],\n",
              "        [ 0.4235,  1.7356, -3.6992, -2.1507,  1.6206,  4.4007,  0.0989],\n",
              "        [-1.6830, -2.3697,  1.7738, -0.8028,  1.9558, -0.4509, -3.5289],\n",
              "        [-1.7016, -3.2381,  1.8083,  0.0604, -0.6661, -1.3614, -3.7734]])"
            ]
          },
          "metadata": {},
          "execution_count": 62
        }
      ]
    }
  ]
}