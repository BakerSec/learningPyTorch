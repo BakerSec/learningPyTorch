{
  "nbformat": 4,
  "nbformat_minor": 0,
  "metadata": {
    "colab": {
      "provenance": [],
      "authorship_tag": "ABX9TyOhc+cFfJwAyoZ4096CZn4U",
      "include_colab_link": true
    },
    "kernelspec": {
      "name": "python3",
      "display_name": "Python 3"
    },
    "language_info": {
      "name": "python"
    }
  },
  "cells": [
    {
      "cell_type": "markdown",
      "metadata": {
        "id": "view-in-github",
        "colab_type": "text"
      },
      "source": [
        "<a href=\"https://colab.research.google.com/github/flowmasterB/learningPyTorch/blob/main/00_pytorch_math_dotprod.ipynb\" target=\"_parent\"><img src=\"https://colab.research.google.com/assets/colab-badge.svg\" alt=\"Open In Colab\"/></a>"
      ]
    },
    {
      "cell_type": "markdown",
      "source": [
        "# I went through Mike Cohen's deep learning course (modified from the original - I add more comments and code where I see fit to further solidify concepts) and will walk you through it -- or you can sign up here:\n",
        "https://www.udemy.com/course/deeplearning_x/learn/lecture/27841856#overview"
      ],
      "metadata": {
        "id": "IamK_DK9hr9F"
      }
    },
    {
      "cell_type": "code",
      "execution_count": 22,
      "metadata": {
        "id": "8waAoxJjWYqm"
      },
      "outputs": [],
      "source": [
        "#import libraries\n",
        "import numpy as np\n",
        "import torch"
      ]
    },
    {
      "cell_type": "code",
      "source": [
        "# What is the dot product?\n",
        "# A single number that reflects the commonalities between two objects such as\n",
        "# vectors, matrices, tensors, signals, images)."
      ],
      "metadata": {
        "id": "r5Q9PL_1nycE"
      },
      "execution_count": null,
      "outputs": []
    },
    {
      "cell_type": "markdown",
      "source": [
        "# Using NumPy"
      ],
      "metadata": {
        "id": "UdbVxljnqAaq"
      }
    },
    {
      "cell_type": "code",
      "source": [
        "# create 2 new vectors nv1, nv2\n",
        "nv1 = np.array([1,2,3,4])\n",
        "nv2 = np.array([0,1,0,-1])\n",
        "\n",
        "print(np.dot(nv1,nv2)) # we can print the result of the dot prod\n",
        "nvDot = np.dot(nv1,nv2) # I like to create a variable to use it to\n",
        "# compare the 2 values\n",
        "\n",
        "print(np.sum( nv1*nv2 )) # here we return the sum of the 2 vectors\n",
        "npSum = np.sum(nv1*nv2) # create a variable for comparison\n",
        "\n",
        "nvDot == npSum # make a boolean comparison\n"
      ],
      "metadata": {
        "colab": {
          "base_uri": "https://localhost:8080/"
        },
        "id": "GsIp_Cq8fvof",
        "outputId": "50ec54c4-5e19-48e9-c43e-2698e38fee08"
      },
      "execution_count": 11,
      "outputs": [
        {
          "output_type": "stream",
          "name": "stdout",
          "text": [
            "-2\n",
            "-2\n"
          ]
        },
        {
          "output_type": "execute_result",
          "data": {
            "text/plain": [
              "True"
            ]
          },
          "metadata": {},
          "execution_count": 11
        }
      ]
    },
    {
      "cell_type": "markdown",
      "source": [
        "# Using PyTorch"
      ],
      "metadata": {
        "id": "H6Vg9C5RkmCG"
      }
    },
    {
      "cell_type": "code",
      "source": [
        "# create a vector -- a tensor in torch, keep in mind :-)\n",
        "tv1 = torch.tensor([1,2,3,4])\n",
        "tv2 = torch.tensor([0,1,0,-1]) # the size of the arrays/tensors must be equal\n",
        "# AN ERROR WILL BE RETURNED IF NOT SAME # OF ELEMENTS MUST BE EQUAL lol\n",
        "# sorry not yelling. :-p\n",
        "\n",
        "print(torch.dot(tv1,tv2))\n",
        "print(torch.sum(tv1*tv2))\n",
        "\n",
        "# We can see that so far numpy and pytorch are similar. syntax is a bit diff\n",
        "\n",
        "tv1Dot = torch.dot(tv1,tv2)\n",
        "tv2Sum = torch.sum(tv1*tv2)\n",
        "\n",
        "tv1Dot == tv2Sum\n"
      ],
      "metadata": {
        "colab": {
          "base_uri": "https://localhost:8080/"
        },
        "id": "9n9n-fd9kqlW",
        "outputId": "ce7afca8-89a5-4fea-a9a3-0ca1923f8495"
      },
      "execution_count": 21,
      "outputs": [
        {
          "output_type": "stream",
          "name": "stdout",
          "text": [
            "tensor(-2)\n",
            "tensor(-2)\n"
          ]
        },
        {
          "output_type": "execute_result",
          "data": {
            "text/plain": [
              "tensor(True)"
            ]
          },
          "metadata": {},
          "execution_count": 21
        }
      ]
    },
    {
      "cell_type": "code",
      "source": [],
      "metadata": {
        "id": "rYK2sONwmpel"
      },
      "execution_count": null,
      "outputs": []
    }
  ]
}